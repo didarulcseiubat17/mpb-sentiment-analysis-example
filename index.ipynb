{
 "cells": [
  {
   "cell_type": "markdown",
   "metadata": {},
   "source": [
    "## What does Reddit think about the new MBP?\n",
    "### Is it da bomb, or did it just bomb?\n",
    "\n",
    "My friends and I have been talking today about Apple's announcement of their new Macbook Pro line.\n",
    "I personally own an Apple TV, Ipad mini, Macbook Pro, and an iPhone. I was definitely looking forward\n",
    "to see what Apple was going to come out with the new Macbook Pro line. My thoughts on the announcement aside,\n",
    "it seemed to me like the overwhelming majority of users on Reddit [didn't come away very impressed](https://www.reddit.com/r/apple/comments/59plnp/lets_talk_about_those_prices/) with the announcements Apple made in regards to the new Macbook Pro. I thought this would be a good opportunity to play with Reddit's API and to try out some rudimentary sentiment analysis."
   ]
  },
  {
   "cell_type": "markdown",
   "metadata": {},
   "source": [
    "## Tech\n",
    "\n",
    "To talk to Reddit, I'm using the aptly named, [**PRAW**](https://praw.readthedocs.io/en/stable/index.html) library. PRAW stands for the Python Reddit Api Wrapper. Nice.\n",
    "\n",
    "Now for the sentiment analysis, I'm going to use the [**TextBlob**](https://textblob.readthedocs.io/en/dev/) library. TextBlob is a library that provides an easy to use interface for a lot of common natural language processing tasks."
   ]
  },
  {
   "cell_type": "markdown",
   "metadata": {},
   "source": [
    "## Get the data\n",
    "\n",
    "To begin, we instantiate praw's Reddit class with an appropriate user agent. Be careful how you define your user agent. Doing so incorrectly can get you banned according to Reddit. Fortunately, writing a user agent isn't hard at all. You can find the official documentation on how to do so on the [Reddit API wiki page](https://github.com/reddit/reddit/wiki/API). \n",
    "\n",
    "As of this writing, the format should look something like this (taken from the aformentioned wiki):\n",
    "\n",
    "    <platform>:<app ID>:<version string> (by /u/<reddit username>)\n",
    "\n",
    "Example: \n",
    "\n",
    "    User-Agent: android:com.example.myredditapp:v1.2.3 (by /u/kemitche)\n"
   ]
  },
  {
   "cell_type": "code",
   "execution_count": 7,
   "metadata": {
    "collapsed": false
   },
   "outputs": [
    {
     "data": {
      "text/plain": [
       "['374 :: Apple Keynote, October 2016 | Post-Event Megathread',\n",
       " '46 :: Pre-order Shipping Megathread | Mac Lineup, 2016',\n",
       " \"4880 :: Let's talk about those prices...\",\n",
       " \"2931 :: I dont mind the lack of standard USB, but you're telling me I can't u...\",\n",
       " '1673 :: Tim Cook: \"We think technology should be available to everyone\" and t...',\n",
       " '1096 :: (UK) 13\" MacBook Pro has gone from £999 to £1449',\n",
       " \"712 :: What is Apple's definition of a pro?\",\n",
       " \"698 :: Let's talk about the touch bar.\",\n",
       " '593 :: Gone is lit Apple logo on the back of Macbook Pro',\n",
       " '468 :: What are you thoughts on the new MacBook Pros? Being honest I am not i...']"
      ]
     },
     "execution_count": 7,
     "metadata": {},
     "output_type": "execute_result"
    }
   ],
   "source": [
    "import praw\n",
    "\n",
    "# I saved my user agent string in a local file\n",
    "# since one should use their own\n",
    "with open('./.user_agent') as f:\n",
    "    user_agent = f.read()\n",
    "\n",
    "# instantiate Reddit connection class\n",
    "r = praw.Reddit(user_agent=user_agent)\n",
    "\n",
    "# let's get the current top 10 submissions\n",
    "# since praw interacts with reddit lazily, we wrap the method\n",
    "# call in a list\n",
    "submissions = list(r.get_subreddit('apple').get_hot(limit=10))\n",
    "[str(s) for s in submissions]"
   ]
  },
  {
   "cell_type": "markdown",
   "metadata": {},
   "source": [
    "Cool, so we have some data. From looking at the actual subreddit in a browser, we can see the two top submissions are official threads so we'll just skip over them.\n",
    "\n",
    "<a href=\"http://imgur.com/8MJXgdg\"><img src=\"http://i.imgur.com/8MJXgdg.png\" title=\"source: imgur.com\" /></a>"
   ]
  },
  {
   "cell_type": "code",
   "execution_count": 20,
   "metadata": {
    "collapsed": false
   },
   "outputs": [
    {
     "data": {
      "text/plain": [
       "[\"4880 :: Let's talk about those prices...\",\n",
       " \"2931 :: I dont mind the lack of standard USB, but you're telling me I can't u...\",\n",
       " '1673 :: Tim Cook: \"We think technology should be available to everyone\" and t...',\n",
       " '1096 :: (UK) 13\" MacBook Pro has gone from £999 to £1449',\n",
       " \"712 :: What is Apple's definition of a pro?\",\n",
       " \"698 :: Let's talk about the touch bar.\",\n",
       " '593 :: Gone is lit Apple logo on the back of Macbook Pro',\n",
       " '468 :: What are you thoughts on the new MacBook Pros? Being honest I am not i...']"
      ]
     },
     "execution_count": 20,
     "metadata": {},
     "output_type": "execute_result"
    }
   ],
   "source": [
    "submissions = submissions[2:]\n",
    "[str(s) for s in submissions]"
   ]
  },
  {
   "cell_type": "markdown",
   "metadata": {},
   "source": [
    "### Submission 1\n",
    "\n",
    "We'll start by looking at the comments in the first submission about Apple's new pricing. Can you guess what people think?!\n",
    "\n",
    "In praw, every Submission has a comments attribute which is iterable. This attribute isn't homogeneous. That is, some of the items will be Comment objects, and there may be a MoreComments class in there as well, so we'll need to handle that."
   ]
  },
  {
   "cell_type": "code",
   "execution_count": 47,
   "metadata": {
    "collapsed": false
   },
   "outputs": [
    {
     "data": {
      "text/plain": [
       "['I\\'m still trying to figure out what justifies a $200 increase on the 13\" ***without*** the Touch Bar...',\n",
       " \"Probably shouldn't have been surprised, but it hit me like a slippery fish. My jaw dropped.\\n\\nThey've priced me out, sadly.\",\n",
       " '$4300 to max out the 15 pro...lol',\n",
       " \"I was waiting for the new Macbooks to replace my water damaged 2015 Macbook Pro.\\n\\nNow, I'm off to Apple Store to get my Macbook fixed. These prices are insane.\",\n",
       " 'As an Australian, I am expecting to be even less thrilled when regional pricing is revealed. ',\n",
       " '2000 euros here in Germany. I am shocked. Really',\n",
       " \"Ain't paying that much. May have to stick with my base model 2012 air :(\",\n",
       " \"Even without the TouchBar, it is still $1500. \\n$200 over the last year's MacBook Pro. \\nThe price increase is just insane. \",\n",
       " \"As expected, this has made Microsoft's Surface line extremely attractive.\",\n",
       " '$2399USD for a Quad Core i7, 16GB of 2133Mhz RAM, 256GB SSD, and an AMD 400 mobile series, but not even the 480RX equivalent?\\n\\nFuck right off. ',\n",
       " 'Well the Macbook that I am typing on will be the last one that I use...',\n",
       " \"Unfortunately Apple deserves a stiff reality check from consumers after this.  They'll keep inflating prices with minimal improvements unless we make a statement by NOT BUYING their stuff.  They need to get grounded in the sense that they're just not far ahead of the competition as far as aesthetics go anymore.  There's no reason to pay thoese prices except for that logo, and they hope that's reason enough that you'll buy it.  They're so wrong.\\n\\nRemember when Microsoft announced Xbox One with the DRM...remember the outcry and the lousy sales actually prompted a positive change from Microsoft and since then, the Xbox and MS has completely recovered.  We need to give Apple the same reality check, because it'll help them find their way again.\\n\\nDo not buy this crap.\",\n",
       " \"I was getting hyped for my new Macbook Pro for the entire keynote only to find out that it's $500 out of my budget at the end. It's like a mouse being lured in by cheese only to get whacked by a mousetrap.\",\n",
       " 'Rip students...',\n",
       " 'The base price with 512GB I would have accepted, but 256 is way too low. \\n\\nAlso a Canadian\\n\\nedit: GB, sorry typo',\n",
       " \"What. The. Fuck.\\n\\n+ $200 for better processor? okay I guess, I can live with that\\n\\n+ $400 for 1TB of space? seems a bit much but okay\\n\\n+ **$1200 for 2TB?!** Are they fucking joking?\\n\\n+ $100 for better graphics? seems pointless, they could just include the 460 version by default, they are just milking money at this point\\n\\nSad, really sad. It's been two years and if we want a better model than the 2015, we need to pay about $1000 extra...\\n\\nApple products are already the most expensive products on the market and it seems like they are heading for a direction where everything is just going to get more expensive. Wouldn't be surprised if the next best model of iPhone would be $1500 or something like that.\",\n",
       " 'This is the mac mini all over again.',\n",
       " 'That price is STUPID. I was really excited, especially with the space gray, but the price makes me not want this at all. ',\n",
       " 'By far the most disappointing Apple event ever.',\n",
       " 'No kidding... $3200 CAD. For 256GB and 16GB. ']"
      ]
     },
     "execution_count": 47,
     "metadata": {},
     "output_type": "execute_result"
    }
   ],
   "source": [
    "# grab the first submission\n",
    "submission = submissions[0]\n",
    "\n",
    "# the actual text is in the body\n",
    "# attribute of a Comment\n",
    "def get_comments(submission, n=20):\n",
    "    \"\"\"\n",
    "    Return a list of comments from a submission.\n",
    "    \n",
    "    We can't just use submission.comments, because some\n",
    "    of those comments may be MoreComments classes and those don't\n",
    "    have bodies.\n",
    "    \n",
    "    n is the number of comments we want to limit ourselves to\n",
    "    from the submission.\n",
    "    \"\"\"\n",
    "    count = 0\n",
    "    def barf_comments(iterable=submission.comments):\n",
    "        \"\"\"\n",
    "        This generator barfs out comments.\n",
    "        \n",
    "        Some comments seem not to have bodies, so we skip those.\n",
    "        \"\"\"\n",
    "        nonlocal count\n",
    "        for c in iterable:\n",
    "            if hasattr(c, 'body') and count < n:\n",
    "                count += 1\n",
    "                yield c.body\n",
    "            else:\n",
    "                # Sometimes c here will be a Comment\n",
    "                # class which is not iterable.\n",
    "                if hasattr(c, '__iter__'):\n",
    "                    yield from barf_comments(c)\n",
    "                else:\n",
    "                    # c was a Comment and did not have a body\n",
    "                    continue\n",
    "    return barf_comments()\n",
    "                \n",
    "comments = list(get_comments(submission))\n",
    "list(comments)"
   ]
  },
  {
   "cell_type": "markdown",
   "metadata": {},
   "source": [
    "## Sentiment analysis!\n",
    "\n",
    "So now we have the first twenty comments of the first submission.\n",
    "\n",
    "We'll combine them into one piece of text and determine the overall sentiment from them.\n",
    "\n",
    "According to the TextBlob docs, this is how to use their sentiment analysis api and how to interpret it\n",
    "\n",
    "\n",
    "### The sentiment property returns a namedtuple of the form Sentiment(polarity, subjectivity). The polarity score is a float within the range [-1.0, 1.0]. The subjectivity is a float within the range [0.0, 1.0] where 0.0 is very objective and 1.0 is very subjective.\n",
    "\n",
    "```\n",
    ">>> testimonial = TextBlob(\"Textblob is amazingly simple to use. What great fun!\")\n",
    ">>> testimonial.sentiment\n",
    "Sentiment(polarity=0.39166666666666666, subjectivity=0.4357142857142857)\n",
    ">>> testimonial.sentiment.polarity\n",
    "0.39166666666666666\n",
    "```"
   ]
  },
  {
   "cell_type": "code",
   "execution_count": 48,
   "metadata": {
    "collapsed": false
   },
   "outputs": [
    {
     "data": {
      "text/plain": [
       "Sentiment(polarity=-0.05465367965367966, subjectivity=0.5949222908239302)"
      ]
     },
     "execution_count": 48,
     "metadata": {},
     "output_type": "execute_result"
    }
   ],
   "source": [
    "from textblob import TextBlob\n",
    "\n",
    "comment_blob = TextBlob(''.join(comments))\n",
    "comment_blob.sentiment"
   ]
  },
  {
   "cell_type": "markdown",
   "metadata": {},
   "source": [
    "Huh, things aren't looking good so far. Well, let's look at more data."
   ]
  },
  {
   "cell_type": "code",
   "execution_count": 54,
   "metadata": {
    "collapsed": false
   },
   "outputs": [],
   "source": [
    "many_more_comments = []\n",
    "for submission in submissions:\n",
    "    many_more_comments.extend(get_comments(submission, 200))"
   ]
  },
  {
   "cell_type": "code",
   "execution_count": 55,
   "metadata": {
    "collapsed": false
   },
   "outputs": [
    {
     "data": {
      "text/plain": [
       "406"
      ]
     },
     "execution_count": 55,
     "metadata": {},
     "output_type": "execute_result"
    }
   ],
   "source": [
    "len(many_more_comments)"
   ]
  }
 ],
 "metadata": {
  "kernelspec": {
   "display_name": "Python 3",
   "language": "python",
   "name": "python3"
  },
  "language_info": {
   "codemirror_mode": {
    "name": "ipython",
    "version": 3
   },
   "file_extension": ".py",
   "mimetype": "text/x-python",
   "name": "python",
   "nbconvert_exporter": "python",
   "pygments_lexer": "ipython3",
   "version": "3.5.1"
  }
 },
 "nbformat": 4,
 "nbformat_minor": 1
}
